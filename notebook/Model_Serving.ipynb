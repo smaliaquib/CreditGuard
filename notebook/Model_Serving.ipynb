{
 "cells": [
  {
   "cell_type": "code",
   "execution_count": 0,
   "metadata": {
    "application/vnd.databricks.v1+cell": {
     "cellMetadata": {
      "byteLimit": 2048000,
      "rowLimit": 10000
     },
     "inputWidgets": {},
     "nuid": "330b898f-a155-4e90-af5f-ebe3a2a9ff41",
     "showTitle": false,
     "tableResultSettingsMap": {},
     "title": ""
    }
   },
   "outputs": [],
   "source": [
    "import time\n",
    "\n",
    "import requests\n",
    "from databricks.sdk import WorkspaceClient\n",
    "from databricks.sdk.service.catalog import (\n",
    "    OnlineTable,\n",
    "    OnlineTableSpec,\n",
    "    OnlineTableSpecTriggeredSchedulingPolicy,\n",
    ")\n",
    "from databricks.sdk.service.serving import EndpointCoreConfigInput, ServedEntityInput\n",
    "# from pyspark.sql import SparkSession\n",
    "from databricks.connect import DatabricksSession\n",
    "\n",
    "from utils import load_config"
   ]
  },
  {
   "cell_type": "code",
   "execution_count": 0,
   "metadata": {
    "application/vnd.databricks.v1+cell": {
     "cellMetadata": {
      "byteLimit": 2048000,
      "rowLimit": 10000
     },
     "inputWidgets": {},
     "nuid": "9830abb9-6aea-4652-b397-4c0fff990305",
     "showTitle": false,
     "tableResultSettingsMap": {},
     "title": ""
    }
   },
   "outputs": [],
   "source": [
    "spark = DatabricksSession.builder.getOrCreate()\n",
    "workspace = WorkspaceClient()"
   ]
  },
  {
   "cell_type": "code",
   "execution_count": 0,
   "metadata": {
    "application/vnd.databricks.v1+cell": {
     "cellMetadata": {
      "byteLimit": 2048000,
      "rowLimit": 10000
     },
     "inputWidgets": {},
     "nuid": "c9449f77-9156-433d-b178-b85c3cabda73",
     "showTitle": false,
     "tableResultSettingsMap": {},
     "title": ""
    }
   },
   "outputs": [
    {
     "output_type": "stream",
     "name": "stderr",
     "output_type": "stream",
     "text": [
      "\u001B[32m2025-03-28 21:04:24.091\u001B[0m | \u001B[1mINFO    \u001B[0m | \u001B[36mutils\u001B[0m:\u001B[36mload_config\u001B[0m:\u001B[36m66\u001B[0m - \u001B[1mLoaded configuration from ../project_config.yml\u001B[0m\n"
     ]
    },
    {
     "output_type": "stream",
     "name": "stdout",
     "output_type": "stream",
     "text": [
      "catalog_name='test01' schema_name='default' pipeline_id='4be66e88-11e8-4988-9fa3-459b9b28a83c' parameters={'learning_rate': 0.05, 'random_state': 42, 'force_col_wise': True} ab_test={'learning_rate_a': 0.05, 'learning_rate_b': 0.1, 'force_col_wise': True} num_features=[NumFeature(name='ID', dtype='int64'), NumFeature(name='LIMIT_BAL', dtype='float64'), NumFeature(name='SEX', dtype='int64'), NumFeature(name='EDUCATION', dtype='int64'), NumFeature(name='MARRIAGE', dtype='int64'), NumFeature(name='AGE', dtype='int64'), NumFeature(name='PAY_0', dtype='int64'), NumFeature(name='PAY_2', dtype='int64'), NumFeature(name='PAY_3', dtype='int64'), NumFeature(name='PAY_4', dtype='int64'), NumFeature(name='PAY_5', dtype='int64'), NumFeature(name='PAY_6', dtype='int64'), NumFeature(name='BILL_AMT1', dtype='float64'), NumFeature(name='BILL_AMT2', dtype='float64'), NumFeature(name='BILL_AMT3', dtype='float64'), NumFeature(name='BILL_AMT4', dtype='float64'), NumFeature(name='BILL_AMT5', dtype='float64'), NumFeature(name='BILL_AMT6', dtype='float64'), NumFeature(name='PAY_AMT1', dtype='float64'), NumFeature(name='PAY_AMT2', dtype='float64'), NumFeature(name='PAY_AMT3', dtype='float64'), NumFeature(name='PAY_AMT4', dtype='float64'), NumFeature(name='PAY_AMT5', dtype='float64'), NumFeature(name='PAY_AMT6', dtype='float64')] target=[Target(name='default.payment.next.month', dtype='int64', new_name='Default')] features=Features(clean=['Id', 'Limit_bal', 'Sex', 'Education', 'Marriage', 'Age', 'Pay_0', 'Pay_2', 'Pay_3', 'Pay_4', 'Pay_5', 'Pay_6', 'Bill_amt1', 'Bill_amt2', 'Bill_amt3', 'Bill_amt4', 'Bill_amt5', 'Bill_amt6', 'Pay_amt1', 'Pay_amt2', 'Pay_amt3', 'Pay_amt4', 'Pay_amt5', 'Pay_amt6'], robust=['Limit_bal', 'Bill_amt1', 'Bill_amt2', 'Bill_amt3', 'Bill_amt4', 'Bill_amt5', 'Bill_amt6', 'Pay_amt1', 'Pay_amt2', 'Pay_amt3', 'Pay_amt4', 'Pay_amt5', 'Pay_amt6'])\n"
     ]
    }
   ],
   "source": [
    "config = load_config(\"../project_config.yml\")\n",
    "print(config)"
   ]
  },
  {
   "cell_type": "code",
   "execution_count": 0,
   "metadata": {
    "application/vnd.databricks.v1+cell": {
     "cellMetadata": {
      "byteLimit": 2048000,
      "rowLimit": 10000
     },
     "inputWidgets": {},
     "nuid": "5ebe370f-a977-4141-99a4-e5ab564f4d1a",
     "showTitle": false,
     "tableResultSettingsMap": {},
     "title": ""
    }
   },
   "outputs": [],
   "source": [
    "catalog_name = config.catalog_name\n",
    "schema_name = config.schema_name"
   ]
  },
  {
   "cell_type": "code",
   "execution_count": 0,
   "metadata": {
    "application/vnd.databricks.v1+cell": {
     "cellMetadata": {
      "byteLimit": 2048000,
      "rowLimit": 10000
     },
     "inputWidgets": {},
     "nuid": "ea33d5cc-325f-48ec-af5c-6145fbd84c86",
     "showTitle": false,
     "tableResultSettingsMap": {},
     "title": ""
    }
   },
   "outputs": [],
   "source": [
    "spec = OnlineTableSpec(\n",
    "    primary_key_columns=[\"Id\"],\n",
    "    source_table_full_name=f\"{catalog_name}.{schema_name}.features_balanced\",\n",
    "    run_triggered=OnlineTableSpecTriggeredSchedulingPolicy.from_dict({\"triggered\": \"true\"}),\n",
    "    perform_full_copy=False,\n",
    ")\n",
    "\n",
    "# Create the online table in Databricks\n",
    "online_table_name = f\"{catalog_name}.{schema_name}.features_balanced_online\"\n",
    "\n",
    "table = OnlineTable(name=online_table_name, spec=spec)\n",
    "# print(online_table_name.as_dict())"
   ]
  },
  {
   "cell_type": "code",
   "execution_count": 0,
   "metadata": {
    "application/vnd.databricks.v1+cell": {
     "cellMetadata": {
      "byteLimit": 2048000,
      "rowLimit": 10000
     },
     "inputWidgets": {},
     "nuid": "3b9128c4-fc6f-4958-8ff0-ecad5a434c1a",
     "showTitle": false,
     "tableResultSettingsMap": {},
     "title": ""
    }
   },
   "outputs": [
    {
     "output_type": "execute_result",
     "data": {
      "text/plain": [
       "OnlineTable(name='test01.default.features_balanced_online', spec=OnlineTableSpec(perform_full_copy=False, pipeline_id='a7026c5c-3f4d-44b2-8fab-35f472d9505c', primary_key_columns=['Id'], run_continuously=None, run_triggered=OnlineTableSpecTriggeredSchedulingPolicy(), source_table_full_name='test01.default.features_balanced', timeseries_key=None), status=OnlineTableStatus(continuous_update_status=None, detailed_state=<OnlineTableState.PROVISIONING: 'PROVISIONING'>, failed_status=None, message='Online Table creation started.', provisioning_status=None, triggered_update_status=None), table_serving_url=None)"
      ]
     },
     "execution_count": 9,
     "metadata": {},
     "output_type": "execute_result"
    }
   ],
   "source": [
    "workspace.online_tables.create(\n",
    "    name=online_table_name,\n",
    "    spec=spec\n",
    ")"
   ]
  },
  {
   "cell_type": "code",
   "execution_count": 0,
   "metadata": {
    "application/vnd.databricks.v1+cell": {
     "cellMetadata": {
      "byteLimit": 2048000,
      "rowLimit": 10000
     },
     "inputWidgets": {},
     "nuid": "0c957307-7367-40dc-9571-4ea0da583a79",
     "showTitle": false,
     "tableResultSettingsMap": {},
     "title": ""
    }
   },
   "outputs": [
    {
     "output_type": "stream",
     "name": "stdout",
     "output_type": "stream",
     "text": [
      "OnlineTable(name='test01.default.features_balanced_online', spec=OnlineTableSpec(perform_full_copy=False, pipeline_id='a7026c5c-3f4d-44b2-8fab-35f472d9505c', primary_key_columns=['Id'], run_continuously=None, run_triggered=OnlineTableSpecTriggeredSchedulingPolicy(), source_table_full_name='test01.default.features_balanced', timeseries_key=None), status=OnlineTableStatus(continuous_update_status=None, detailed_state=<OnlineTableState.PROVISIONING_PIPELINE_RESOURCES: 'PROVISIONING_PIPELINE_RESOURCES'>, failed_status=None, message='Online Table is currently pending setup of pipeline resources. Check latest status in Delta Live Tables: https://adb-4478913909061743.3.azuredatabricks.net#joblist/pipelines/a7026c5c-3f4d-44b2-8fab-35f472d9505c/updates/ac9455b4-24f4-41b8-af94-5eb6c8ea101b', provisioning_status=ProvisioningStatus(initial_pipeline_sync_progress=PipelineProgress(estimated_completion_time_seconds=None, latest_version_currently_processing=None, sync_progress_completion=None, synced_row_count=None, total_row_count=None)), triggered_update_status=None), table_serving_url=None)\n"
     ]
    }
   ],
   "source": [
    "print(workspace.online_tables.get(online_table_name))"
   ]
  },
  {
   "cell_type": "code",
   "execution_count": 0,
   "metadata": {
    "application/vnd.databricks.v1+cell": {
     "cellMetadata": {
      "byteLimit": 2048000,
      "rowLimit": 10000
     },
     "inputWidgets": {},
     "nuid": "b16c0b6a-9ae1-40d2-b353-da23bbccae0b",
     "showTitle": false,
     "tableResultSettingsMap": {},
     "title": ""
    }
   },
   "outputs": [
    {
     "output_type": "stream",
     "name": "stdout",
     "output_type": "stream",
     "text": [
      "a7026c5c-3f4d-44b2-8fab-35f472d9505c\n"
     ]
    }
   ],
   "source": [
    "# Pipeline_id to be added into the project_config.yml\n",
    "print(workspace.online_tables.get(online_table_name).spec.pipeline_id)"
   ]
  },
  {
   "cell_type": "code",
   "execution_count": 0,
   "metadata": {
    "application/vnd.databricks.v1+cell": {
     "cellMetadata": {
      "byteLimit": 2048000,
      "rowLimit": 10000
     },
     "inputWidgets": {},
     "nuid": "c79b07a3-5096-4a45-8ca3-f895a2fe8db6",
     "showTitle": false,
     "tableResultSettingsMap": {},
     "title": ""
    }
   },
   "outputs": [
    {
     "output_type": "execute_result",
     "data": {
      "text/plain": [
       "<databricks.sdk.service._internal.Wait at 0x7f080cb23b50>"
      ]
     },
     "execution_count": 12,
     "metadata": {},
     "output_type": "execute_result"
    }
   ],
   "source": [
    "workspace.serving_endpoints.create(\n",
    "    name=\"credit-default-model-serving-feature\",\n",
    "    config=EndpointCoreConfigInput(\n",
    "        served_entities=[\n",
    "            ServedEntityInput(\n",
    "                entity_name=f\"{catalog_name}.{schema_name}.credit_model_feature\",\n",
    "                scale_to_zero_enabled=True,\n",
    "                workload_size=\"Small\",\n",
    "                entity_version=1,\n",
    "            )\n",
    "        ]\n",
    "    ),\n",
    ")"
   ]
  },
  {
   "cell_type": "code",
   "execution_count": 0,
   "metadata": {
    "application/vnd.databricks.v1+cell": {
     "cellMetadata": {
      "byteLimit": 2048000,
      "rowLimit": 10000
     },
     "inputWidgets": {},
     "nuid": "0acc9ba2-3457-44fb-8810-3258ce4bdf7e",
     "showTitle": false,
     "tableResultSettingsMap": {},
     "title": ""
    }
   },
   "outputs": [],
   "source": [
    "token = dbutils.notebook.entry_point.getDbutils().notebook().getContext().apiToken().get()  # noqa: F821\n",
    "\n",
    "# token = dbutils.secrets.get(scope=\"secret-scope\", key=\"DATABRICKS_TOKEN\")  # noqa: F821\n",
    "\n",
    "host = spark.conf.get(\"spark.databricks.workspaceUrl\")"
   ]
  },
  {
   "cell_type": "code",
   "execution_count": 0,
   "metadata": {
    "application/vnd.databricks.v1+cell": {
     "cellMetadata": {
      "byteLimit": 2048000,
      "rowLimit": 10000
     },
     "inputWidgets": {},
     "nuid": "600e02e3-f272-4585-ac55-4f25cfa9d878",
     "showTitle": false,
     "tableResultSettingsMap": {},
     "title": ""
    }
   },
   "outputs": [
    {
     "output_type": "execute_result",
     "data": {
      "text/plain": [
       "'adb-4478913909061743.3.azuredatabricks.net'"
      ]
     },
     "execution_count": 14,
     "metadata": {},
     "output_type": "execute_result"
    }
   ],
   "source": [
    "host"
   ]
  },
  {
   "cell_type": "code",
   "execution_count": 0,
   "metadata": {
    "application/vnd.databricks.v1+cell": {
     "cellMetadata": {
      "byteLimit": 2048000,
      "rowLimit": 10000
     },
     "inputWidgets": {},
     "nuid": "090334b4-de0d-4514-abb5-97f99f2897f3",
     "showTitle": false,
     "tableResultSettingsMap": {},
     "title": ""
    }
   },
   "outputs": [],
   "source": [
    "required_columns = [\"Id\"]"
   ]
  },
  {
   "cell_type": "code",
   "execution_count": 0,
   "metadata": {
    "application/vnd.databricks.v1+cell": {
     "cellMetadata": {
      "byteLimit": 2048000,
      "rowLimit": 10000
     },
     "inputWidgets": {},
     "nuid": "7ed76984-7c71-4169-a3a8-78afed10dc18",
     "showTitle": false,
     "tableResultSettingsMap": {},
     "title": ""
    }
   },
   "outputs": [
    {
     "output_type": "execute_result",
     "data": {
      "text/plain": [
       "['Id']"
      ]
     },
     "execution_count": 16,
     "metadata": {},
     "output_type": "execute_result"
    }
   ],
   "source": [
    "required_columns"
   ]
  },
  {
   "cell_type": "code",
   "execution_count": 0,
   "metadata": {
    "application/vnd.databricks.v1+cell": {
     "cellMetadata": {
      "byteLimit": 2048000,
      "rowLimit": 10000
     },
     "inputWidgets": {},
     "nuid": "3e89f18a-8499-4042-bf11-5db114d7a250",
     "showTitle": false,
     "tableResultSettingsMap": {},
     "title": ""
    }
   },
   "outputs": [],
   "source": [
    "train_set = spark.table(f\"{catalog_name}.{schema_name}.train_set\").toPandas()\n",
    "\n",
    "sampled_records = train_set[required_columns].sample(n=1000, replace=True).to_dict(orient=\"records\")\n",
    "dataframe_records = [[record] for record in sampled_records]"
   ]
  },
  {
   "cell_type": "code",
   "execution_count": 0,
   "metadata": {
    "application/vnd.databricks.v1+cell": {
     "cellMetadata": {
      "byteLimit": 2048000,
      "rowLimit": 10000
     },
     "inputWidgets": {},
     "nuid": "bc842162-9176-4cc5-9164-306db2fe08e0",
     "showTitle": false,
     "tableResultSettingsMap": {},
     "title": ""
    }
   },
   "outputs": [
    {
     "output_type": "stream",
     "name": "stdout",
     "output_type": "stream",
     "text": [
      "Id                              object\nLimit_bal                      float64\nSex                              int32\nEducation                        int32\nMarriage                         int32\nAge                              int32\nPay_0                            int32\nPay_2                            int32\nPay_3                            int32\nPay_4                            int32\nPay_5                            int32\nPay_6                            int32\nBill_amt1                      float64\nBill_amt2                      float64\nBill_amt3                      float64\nBill_amt4                      float64\nBill_amt5                      float64\nBill_amt6                      float64\nPay_amt1                       float64\nPay_amt2                       float64\nPay_amt3                       float64\nPay_amt4                       float64\nPay_amt5                       float64\nPay_amt6                       float64\nDefault                          int32\nUpdate_timestamp_utc    datetime64[ns]\ndtype: object\n"
     ]
    }
   ],
   "source": [
    "print(train_set.dtypes)"
   ]
  },
  {
   "cell_type": "code",
   "execution_count": 0,
   "metadata": {
    "application/vnd.databricks.v1+cell": {
     "cellMetadata": {
      "byteLimit": 2048000,
      "rowLimit": 10000
     },
     "inputWidgets": {},
     "nuid": "f8fe248b-afa9-4429-90e9-9524ae717af0",
     "showTitle": false,
     "tableResultSettingsMap": {},
     "title": ""
    }
   },
   "outputs": [
    {
     "output_type": "execute_result",
     "data": {
      "text/plain": [
       "[{'Id': '23253'}]"
      ]
     },
     "execution_count": 19,
     "metadata": {},
     "output_type": "execute_result"
    }
   ],
   "source": [
    "dataframe_records[0]"
   ]
  },
  {
   "cell_type": "code",
   "execution_count": 0,
   "metadata": {
    "application/vnd.databricks.v1+cell": {
     "cellMetadata": {
      "byteLimit": 2048000,
      "rowLimit": 10000
     },
     "inputWidgets": {},
     "nuid": "7ed5e60b-a42b-44c4-824e-52d8f6473a9b",
     "showTitle": false,
     "tableResultSettingsMap": {},
     "title": ""
    }
   },
   "outputs": [
    {
     "output_type": "stream",
     "name": "stdout",
     "output_type": "stream",
     "text": [
      "Endpoint credit-default-model-serving-feature is ready!\n"
     ]
    },
    {
     "output_type": "execute_result",
     "data": {
      "text/plain": [
       "True"
      ]
     },
     "execution_count": 22,
     "metadata": {},
     "output_type": "execute_result"
    }
   ],
   "source": [
    "import time\n",
    "from databricks.sdk import WorkspaceClient\n",
    "\n",
    "w = WorkspaceClient()\n",
    "\n",
    "def wait_for_endpoint(endpoint_name, max_wait_sec=300, check_interval_sec=10):\n",
    "    start_time = time.time()\n",
    "    while time.time() - start_time < max_wait_sec:\n",
    "        status = w.serving_endpoints.get(name=endpoint_name).state.ready\n",
    "        if status:\n",
    "            print(f\"Endpoint {endpoint_name} is ready!\")\n",
    "            return True\n",
    "        print(f\"Endpoint {endpoint_name} not ready yet. Waiting {check_interval_sec} seconds...\")\n",
    "        time.sleep(check_interval_sec)\n",
    "    print(f\"Endpoint {endpoint_name} did not become ready within {max_wait_sec} seconds\")\n",
    "    return False\n",
    "\n",
    "wait_for_endpoint(\"credit-default-model-serving-feature\")"
   ]
  },
  {
   "cell_type": "code",
   "execution_count": 0,
   "metadata": {
    "application/vnd.databricks.v1+cell": {
     "cellMetadata": {
      "byteLimit": 2048000,
      "rowLimit": 10000
     },
     "inputWidgets": {},
     "nuid": "d5e8fbf7-845f-4b4d-af32-aa0c677b6ddb",
     "showTitle": false,
     "tableResultSettingsMap": {},
     "title": ""
    }
   },
   "outputs": [
    {
     "output_type": "execute_result",
     "data": {
      "text/plain": [
       "'adb-4478913909061743.3.azuredatabricks.net'"
      ]
     },
     "execution_count": 24,
     "metadata": {},
     "output_type": "execute_result"
    }
   ],
   "source": [
    "host"
   ]
  },
  {
   "cell_type": "code",
   "execution_count": 0,
   "metadata": {
    "application/vnd.databricks.v1+cell": {
     "cellMetadata": {
      "byteLimit": 2048000,
      "rowLimit": 10000
     },
     "inputWidgets": {},
     "nuid": "91c660a4-ccff-4c17-bd76-01ba7288d8b1",
     "showTitle": false,
     "tableResultSettingsMap": {},
     "title": ""
    }
   },
   "outputs": [
    {
     "output_type": "stream",
     "name": "stdout",
     "output_type": "stream",
     "text": [
      "Response status: 200\nReponse text: {\"predictions\": [1]}\nExecution time: 0.7516846656799316 seconds\n"
     ]
    }
   ],
   "source": [
    "start_time = time.time()\n",
    "\n",
    "# model_serving_endpoint = f\"https://{host}/serving-endpoints/credit-default-model-serving-feature/invocations\"\n",
    "model_serving_endpoint = f\"https://{host}/serving-endpoints/credit-default-model-serving-feature/invocations\"\n",
    "\n",
    "response = requests.post(\n",
    "    f\"{model_serving_endpoint}\",\n",
    "    headers={\"Authorization\": f\"Bearer {token}\"},\n",
    "    json={\"dataframe_records\": dataframe_records[0]},\n",
    ")\n",
    "\n",
    "end_time = time.time()\n",
    "execution_time = end_time - start_time\n",
    "\n",
    "print(\"Response status:\", response.status_code)\n",
    "print(\"Reponse text:\", response.text)\n",
    "print(\"Execution time:\", execution_time, \"seconds\")"
   ]
  },
  {
   "cell_type": "code",
   "execution_count": 0,
   "metadata": {
    "application/vnd.databricks.v1+cell": {
     "cellMetadata": {
      "byteLimit": 2048000,
      "rowLimit": 10000
     },
     "inputWidgets": {},
     "nuid": "43a2a6a3-40e0-45da-a15b-d4525aad1881",
     "showTitle": false,
     "tableResultSettingsMap": {},
     "title": ""
    }
   },
   "outputs": [
    {
     "output_type": "stream",
     "name": "stdout",
     "output_type": "stream",
     "text": [
      "Id            object\nLimit_bal    float64\nSex          float64\nEducation    float64\nMarriage     float64\nAge          float64\nPay_0        float64\nPay_2        float64\nPay_3        float64\nPay_4        float64\nPay_5        float64\nPay_6        float64\nBill_amt1    float64\nBill_amt2    float64\nBill_amt3    float64\nBill_amt4    float64\nBill_amt5    float64\nBill_amt6    float64\nPay_amt1     float64\nPay_amt2     float64\nPay_amt3     float64\nPay_amt4     float64\nPay_amt5     float64\nPay_amt6     float64\ndtype: object\n"
     ]
    }
   ],
   "source": [
    "credit_features = spark.table(f\"{catalog_name}.{schema_name}.features_balanced\").toPandas()\n",
    "\n",
    "print(credit_features.dtypes)"
   ]
  },
  {
   "cell_type": "code",
   "execution_count": 0,
   "metadata": {
    "application/vnd.databricks.v1+cell": {
     "cellMetadata": {
      "byteLimit": 2048000,
      "rowLimit": 10000
     },
     "inputWidgets": {},
     "nuid": "598fbc86-a2d3-4e94-897e-f760b6b0f041",
     "showTitle": false,
     "tableResultSettingsMap": {},
     "title": ""
    }
   },
   "outputs": [
    {
     "output_type": "stream",
     "name": "stdout",
     "output_type": "stream",
     "text": [
      "\nTotal execution time: 38.22215461730957 seconds\nAverage latency per request: 3.498054855585098 seconds\n"
     ]
    }
   ],
   "source": [
    "from concurrent.futures import ThreadPoolExecutor, as_completed\n",
    "import random\n",
    "\n",
    "## Load Test\n",
    "\n",
    "# Initialize variables\n",
    "# model_serving_endpoint = f\"https://{host}/serving-endpoints/credit-default-model-serving/invocations\"\n",
    "model_serving_endpoint = f\"https://{host}/serving-endpoints/credit-default-model-serving-feature/invocations\"\n",
    "\n",
    "headers = {\"Authorization\": f\"Bearer {token}\"}\n",
    "num_requests = 1000\n",
    "\n",
    "\n",
    "# Function to make a request and record latency\n",
    "def send_request():\n",
    "    random_record = random.choice(dataframe_records)\n",
    "    start_time = time.time()\n",
    "    response = requests.post(\n",
    "        model_serving_endpoint,\n",
    "        headers=headers,\n",
    "        json={\"dataframe_records\": random_record},\n",
    "    )\n",
    "    end_time = time.time()\n",
    "    latency = end_time - start_time\n",
    "    return response.status_code, latency\n",
    "\n",
    "\n",
    "total_start_time = time.time()\n",
    "latencies = []\n",
    "\n",
    "# Send requests concurrently\n",
    "with ThreadPoolExecutor(max_workers=100) as executor:\n",
    "    futures = [executor.submit(send_request) for _ in range(num_requests)]\n",
    "\n",
    "    for future in as_completed(futures):\n",
    "        status_code, latency = future.result()\n",
    "        latencies.append(latency)\n",
    "\n",
    "total_end_time = time.time()\n",
    "total_execution_time = total_end_time - total_start_time\n",
    "\n",
    "# Calculate the average latency\n",
    "average_latency = sum(latencies) / len(latencies)\n",
    "\n",
    "print(\"\\nTotal execution time:\", total_execution_time, \"seconds\")\n",
    "print(\"Average latency per request:\", average_latency, \"seconds\")"
   ]
  },
  {
   "cell_type": "code",
   "execution_count": 0,
   "metadata": {
    "application/vnd.databricks.v1+cell": {
     "cellMetadata": {},
     "inputWidgets": {},
     "nuid": "87201585-0691-4128-8129-9d71d13bd546",
     "showTitle": false,
     "tableResultSettingsMap": {},
     "title": ""
    }
   },
   "outputs": [],
   "source": []
  }
 ],
 "metadata": {
  "application/vnd.databricks.v1+notebook": {
   "computePreferences": null,
   "dashboards": [],
   "environmentMetadata": {
    "base_environment": "",
    "environment_version": "2"
   },
   "inputWidgetPreferences": null,
   "language": "python",
   "notebookMetadata": {
    "pythonIndentUnit": 4
   },
   "notebookName": "04. model_serving",
   "widgets": {}
  },
  "language_info": {
   "name": "python"
  }
 },
 "nbformat": 4,
 "nbformat_minor": 0
}