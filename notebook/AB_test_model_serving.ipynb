{
 "cells": [
  {
   "cell_type": "code",
   "execution_count": 0,
   "metadata": {
    "application/vnd.databricks.v1+cell": {
     "cellMetadata": {
      "byteLimit": 2048000,
      "rowLimit": 10000
     },
     "inputWidgets": {},
     "nuid": "367d5389-df46-40a7-9777-46b5991384fc",
     "showTitle": false,
     "tableResultSettingsMap": {},
     "title": ""
    }
   },
   "outputs": [],
   "source": [
    "import hashlib\n",
    "import time\n",
    "\n",
    "import mlflow\n",
    "import pandas as pd\n",
    "import requests\n",
    "from databricks.sdk import WorkspaceClient\n",
    "from databricks.sdk.service.serving import EndpointCoreConfigInput, ServedEntityInput\n",
    "from lightgbm import LGBMClassifier\n",
    "from mlflow import MlflowClient\n",
    "from mlflow.models import infer_signature\n",
    "# from pyspark.sql import SparkSession\n",
    "from databricks.connect import DatabricksSession\n",
    "from sklearn.compose import ColumnTransformer\n",
    "from sklearn.metrics import roc_auc_score  # classification_report, confusion_matrix,\n",
    "from sklearn.pipeline import Pipeline\n",
    "from sklearn.preprocessing import RobustScaler\n",
    "\n",
    "from utils import load_config"
   ]
  },
  {
   "cell_type": "code",
   "execution_count": 0,
   "metadata": {
    "application/vnd.databricks.v1+cell": {
     "cellMetadata": {
      "byteLimit": 2048000,
      "rowLimit": 10000
     },
     "inputWidgets": {},
     "nuid": "7e37ec9b-d139-4549-9978-7dd843aef9df",
     "showTitle": false,
     "tableResultSettingsMap": {},
     "title": ""
    }
   },
   "outputs": [],
   "source": [
    "# Set up MLflow for tracking and model registry\n",
    "mlflow.set_tracking_uri(\"databricks\")\n",
    "mlflow.set_registry_uri(\"databricks-uc\")"
   ]
  },
  {
   "cell_type": "code",
   "execution_count": 0,
   "metadata": {
    "application/vnd.databricks.v1+cell": {
     "cellMetadata": {
      "byteLimit": 2048000,
      "rowLimit": 10000
     },
     "inputWidgets": {},
     "nuid": "164ceff8-d131-4d5d-a731-511b76e83c5c",
     "showTitle": false,
     "tableResultSettingsMap": {},
     "title": ""
    }
   },
   "outputs": [
    {
     "output_type": "stream",
     "name": "stderr",
     "output_type": "stream",
     "text": [
      "\u001B[32m2025-03-28 21:22:22.256\u001B[0m | \u001B[1mINFO    \u001B[0m | \u001B[36mutils\u001B[0m:\u001B[36mload_config\u001B[0m:\u001B[36m66\u001B[0m - \u001B[1mLoaded configuration from ../project_config.yml\u001B[0m\n"
     ]
    },
    {
     "output_type": "stream",
     "name": "stdout",
     "output_type": "stream",
     "text": [
      "catalog_name='test01' schema_name='default' pipeline_id='4be66e88-11e8-4988-9fa3-459b9b28a83c' parameters={'learning_rate': 0.05, 'random_state': 42, 'force_col_wise': True} ab_test={'learning_rate_a': 0.05, 'learning_rate_b': 0.1, 'force_col_wise': True} num_features=[NumFeature(name='ID', dtype='int64'), NumFeature(name='LIMIT_BAL', dtype='float64'), NumFeature(name='SEX', dtype='int64'), NumFeature(name='EDUCATION', dtype='int64'), NumFeature(name='MARRIAGE', dtype='int64'), NumFeature(name='AGE', dtype='int64'), NumFeature(name='PAY_0', dtype='int64'), NumFeature(name='PAY_2', dtype='int64'), NumFeature(name='PAY_3', dtype='int64'), NumFeature(name='PAY_4', dtype='int64'), NumFeature(name='PAY_5', dtype='int64'), NumFeature(name='PAY_6', dtype='int64'), NumFeature(name='BILL_AMT1', dtype='float64'), NumFeature(name='BILL_AMT2', dtype='float64'), NumFeature(name='BILL_AMT3', dtype='float64'), NumFeature(name='BILL_AMT4', dtype='float64'), NumFeature(name='BILL_AMT5', dtype='float64'), NumFeature(name='BILL_AMT6', dtype='float64'), NumFeature(name='PAY_AMT1', dtype='float64'), NumFeature(name='PAY_AMT2', dtype='float64'), NumFeature(name='PAY_AMT3', dtype='float64'), NumFeature(name='PAY_AMT4', dtype='float64'), NumFeature(name='PAY_AMT5', dtype='float64'), NumFeature(name='PAY_AMT6', dtype='float64')] target=[Target(name='default.payment.next.month', dtype='int64', new_name='Default')] features=Features(clean=['Id', 'Limit_bal', 'Sex', 'Education', 'Marriage', 'Age', 'Pay_0', 'Pay_2', 'Pay_3', 'Pay_4', 'Pay_5', 'Pay_6', 'Bill_amt1', 'Bill_amt2', 'Bill_amt3', 'Bill_amt4', 'Bill_amt5', 'Bill_amt6', 'Pay_amt1', 'Pay_amt2', 'Pay_amt3', 'Pay_amt4', 'Pay_amt5', 'Pay_amt6'], robust=['Limit_bal', 'Bill_amt1', 'Bill_amt2', 'Bill_amt3', 'Bill_amt4', 'Bill_amt5', 'Bill_amt6', 'Pay_amt1', 'Pay_amt2', 'Pay_amt3', 'Pay_amt4', 'Pay_amt5', 'Pay_amt6'])\n"
     ]
    }
   ],
   "source": [
    "config = load_config(\"../project_config.yml\")\n",
    "print(config)"
   ]
  },
  {
   "cell_type": "code",
   "execution_count": 0,
   "metadata": {
    "application/vnd.databricks.v1+cell": {
     "cellMetadata": {
      "byteLimit": 2048000,
      "rowLimit": 10000
     },
     "inputWidgets": {},
     "nuid": "81b8b518-2d61-4f64-a550-fc319532b6d9",
     "showTitle": false,
     "tableResultSettingsMap": {},
     "title": ""
    }
   },
   "outputs": [],
   "source": [
    "# Initialize the MLflow client for model management\n",
    "client = MlflowClient()"
   ]
  },
  {
   "cell_type": "code",
   "execution_count": 0,
   "metadata": {
    "application/vnd.databricks.v1+cell": {
     "cellMetadata": {
      "byteLimit": 2048000,
      "rowLimit": 10000
     },
     "inputWidgets": {},
     "nuid": "e1eb6b14-b513-4fa4-ac0a-06ca8b54bdf5",
     "showTitle": false,
     "tableResultSettingsMap": {},
     "title": ""
    }
   },
   "outputs": [],
   "source": [
    "# Extract key configuration details\n",
    "catalog_name = config.catalog_name\n",
    "schema_name = config.schema_name\n",
    "parameters = config.parameters\n",
    "features_robust = config.features.robust\n",
    "\n",
    "ab_test_params = config.ab_test"
   ]
  },
  {
   "cell_type": "code",
   "execution_count": 0,
   "metadata": {
    "application/vnd.databricks.v1+cell": {
     "cellMetadata": {
      "byteLimit": 2048000,
      "rowLimit": 10000
     },
     "inputWidgets": {},
     "nuid": "f873d5da-c5c9-4872-a88e-44bcc57feb4d",
     "showTitle": false,
     "tableResultSettingsMap": {},
     "title": ""
    }
   },
   "outputs": [
    {
     "output_type": "stream",
     "name": "stdout",
     "output_type": "stream",
     "text": [
      "{'learning_rate': 0.05, 'force_col_wise': True}\n"
     ]
    }
   ],
   "source": [
    "# Set up specific parameters for model A and model B as part of the A/B test\n",
    "\n",
    "parameters_a = {\n",
    "    \"learning_rate\": ab_test_params[\"learning_rate_a\"],\n",
    "    \"force_col_wise\": ab_test_params[\"force_col_wise\"],\n",
    "}\n",
    "\n",
    "print(parameters_a)"
   ]
  },
  {
   "cell_type": "code",
   "execution_count": 0,
   "metadata": {
    "application/vnd.databricks.v1+cell": {
     "cellMetadata": {
      "byteLimit": 2048000,
      "rowLimit": 10000
     },
     "inputWidgets": {},
     "nuid": "704215e3-4dc2-4deb-ad67-2e2d2b83de80",
     "showTitle": false,
     "tableResultSettingsMap": {},
     "title": ""
    }
   },
   "outputs": [
    {
     "output_type": "stream",
     "name": "stdout",
     "output_type": "stream",
     "text": [
      "{'learning_rate': 0.1, 'force_col_wise': True}\n"
     ]
    }
   ],
   "source": [
    "# Set up specific parameters for model A and model B as part of the A/B test\n",
    "\n",
    "parameters_b = {\n",
    "    \"learning_rate\": ab_test_params[\"learning_rate_b\"],\n",
    "    \"force_col_wise\": ab_test_params[\"force_col_wise\"],\n",
    "}\n",
    "\n",
    "print(parameters_b)"
   ]
  },
  {
   "cell_type": "code",
   "execution_count": 0,
   "metadata": {
    "application/vnd.databricks.v1+cell": {
     "cellMetadata": {
      "byteLimit": 2048000,
      "rowLimit": 10000
     },
     "inputWidgets": {},
     "nuid": "2381519f-bb80-4548-8abb-5adb12f43cf3",
     "showTitle": false,
     "tableResultSettingsMap": {},
     "title": ""
    }
   },
   "outputs": [],
   "source": [
    "## Load and Prepare Training and Testing Datasets\n",
    "\n",
    "spark = DatabricksSession.builder.getOrCreate()\n",
    "\n",
    "# columns = ['Limit_bal', 'Sex', 'Education', 'Marriage', 'Age', 'Pay_0',\n",
    "#        'Pay_2', 'Pay_3', 'Pay_4', 'Pay_5', 'Pay_6', 'Bill_amt1', 'Bill_amt2',\n",
    "#        'Bill_amt3', 'Bill_amt4', 'Bill_amt5', 'Bill_amt6', 'Pay_amt1',\n",
    "#        'Pay_amt2', 'Pay_amt3', 'Pay_amt4', 'Pay_amt5', 'Pay_amt6']\n",
    "\n",
    "# Load the training and testing sets from Databricks tables\n",
    "train_set_spark = spark.table(f\"{catalog_name}.{schema_name}.train_set\")\n",
    "train_set = train_set_spark.toPandas()\n",
    "\n",
    "test_set = spark.table(f\"{catalog_name}.{schema_name}.test_set\").toPandas()\n",
    "\n",
    "# Define features and target variables\n",
    "X_train = train_set.drop(columns=[\"Default\", \"Id\", \"Update_timestamp_utc\"])\n",
    "y_train = train_set[\"Default\"]\n",
    "\n",
    "X_test = test_set.drop(columns=[\"Default\", \"Id\", \"Update_timestamp_utc\"])\n",
    "y_test = test_set[\"Default\"]"
   ]
  },
  {
   "cell_type": "code",
   "execution_count": 0,
   "metadata": {
    "application/vnd.databricks.v1+cell": {
     "cellMetadata": {
      "byteLimit": 2048000,
      "rowLimit": 10000
     },
     "inputWidgets": {},
     "nuid": "b1a2fc25-2841-4394-b07f-80e1c969cf23",
     "showTitle": false,
     "tableResultSettingsMap": {},
     "title": ""
    }
   },
   "outputs": [],
   "source": [
    "# Define a preprocessor\n",
    "preprocessor = ColumnTransformer(\n",
    "    transformers=[(\"robust_scaler\", RobustScaler(), features_robust)],\n",
    "    remainder=\"passthrough\",\n",
    ")"
   ]
  },
  {
   "cell_type": "code",
   "execution_count": 0,
   "metadata": {
    "application/vnd.databricks.v1+cell": {
     "cellMetadata": {
      "byteLimit": 2048000,
      "rowLimit": 10000
     },
     "inputWidgets": {},
     "nuid": "07a97b6c-83a2-4bc7-81d2-1decbe28d4c2",
     "showTitle": false,
     "tableResultSettingsMap": {},
     "title": ""
    }
   },
   "outputs": [],
   "source": [
    "# Create the pipeline with preprocessing and the LightGBM Classifier A\n",
    "pipeline = Pipeline(steps=[(\"preprocessor\", preprocessor), (\"classifier\", LGBMClassifier(**parameters_a))])"
   ]
  },
  {
   "cell_type": "code",
   "execution_count": 0,
   "metadata": {
    "application/vnd.databricks.v1+cell": {
     "cellMetadata": {
      "byteLimit": 2048000,
      "rowLimit": 10000
     },
     "inputWidgets": {},
     "nuid": "6db2d3f3-fd86-41bf-983a-537f69477b91",
     "showTitle": false,
     "tableResultSettingsMap": {},
     "title": ""
    }
   },
   "outputs": [
    {
     "output_type": "stream",
     "name": "stderr",
     "output_type": "stream",
     "text": [
      "2025/03/28 21:24:30 INFO mlflow.tracking.fluent: Experiment with name '/Shared/credit_default-ab' does not exist. Creating a new experiment.\n"
     ]
    }
   ],
   "source": [
    "# Set the MLflow experiment to track this A/B testing project\n",
    "mlflow.set_experiment(experiment_name=\"/Shared/credit_default-ab\")\n",
    "model_name = f\"{catalog_name}.{schema_name}.credit_default_model_ab\""
   ]
  },
  {
   "cell_type": "code",
   "execution_count": 0,
   "metadata": {
    "application/vnd.databricks.v1+cell": {
     "cellMetadata": {
      "byteLimit": 2048000,
      "rowLimit": 10000
     },
     "inputWidgets": {},
     "nuid": "a2b1e50f-3c21-4a57-8886-c61b88ee8967",
     "showTitle": false,
     "tableResultSettingsMap": {},
     "title": ""
    }
   },
   "outputs": [
    {
     "output_type": "stream",
     "name": "stdout",
     "output_type": "stream",
     "text": [
      "[LightGBM] [Info] Number of positive: 5323, number of negative: 18677\n[LightGBM] [Info] Total Bins 3249\n[LightGBM] [Info] Number of data points in the train set: 24000, number of used features: 23\n[LightGBM] [Info] [binary:BoostFromScore]: pavg=0.221792 -> initscore=-1.255256\n[LightGBM] [Info] Start training from score -1.255256\n"
     ]
    },
    {
     "output_type": "stream",
     "name": "stderr",
     "output_type": "stream",
     "text": [
      "2025/03/28 21:25:12 INFO mlflow.tracking._tracking_service.client: 🏃 View run amazing-pig-460 at: https://adb-4478913909061743.3.azuredatabricks.net/ml/experiments/327870133523278/runs/9a7e5d0242dd445d9d1b74b8f79a5179.\n2025/03/28 21:25:12 INFO mlflow.tracking._tracking_service.client: 🧪 View experiment at: https://adb-4478913909061743.3.azuredatabricks.net/ml/experiments/327870133523278.\n"
     ]
    }
   ],
   "source": [
    "# Start MLflow run to track training of Model A\n",
    "with mlflow.start_run(tags={\"model_class\": \"A\", \"branch\": \"serving\"}) as run:\n",
    "    run_id = run.info.run_id\n",
    "\n",
    "    # Train the model\n",
    "    pipeline.fit(X_train, y_train)\n",
    "    y_pred = pipeline.predict(X_test)\n",
    "\n",
    "    # Evaluate the model performance\n",
    "    auc_test = roc_auc_score(y_test, y_pred)\n",
    "\n",
    "    # Log parameters, metrics, and the model to MLflow\n",
    "    mlflow.log_param(\"model_type\", \"LightGBM with preprocessing\")\n",
    "    mlflow.log_params(parameters_a)\n",
    "    mlflow.log_metric(\"AUC\", auc_test)\n",
    "\n",
    "    # Log the input dataset\n",
    "    dataset = mlflow.data.from_spark(train_set_spark, table_name=f\"{catalog_name}.{schema_name}.train_set\", version=\"0\")\n",
    "\n",
    "    mlflow.log_input(dataset, context=\"training\")\n",
    "\n",
    "    # Log the model\n",
    "    signature = infer_signature(model_input=X_train, model_output=y_pred)\n",
    "    mlflow.sklearn.log_model(sk_model=pipeline, artifact_path=\"lightgbm-pipeline-model\", signature=signature)"
   ]
  },
  {
   "cell_type": "code",
   "execution_count": 0,
   "metadata": {
    "application/vnd.databricks.v1+cell": {
     "cellMetadata": {
      "byteLimit": 2048000,
      "rowLimit": 10000
     },
     "inputWidgets": {},
     "nuid": "55fec8e1-c184-446a-84b5-e651fbb29ea1",
     "showTitle": false,
     "tableResultSettingsMap": {},
     "title": ""
    }
   },
   "outputs": [
    {
     "output_type": "stream",
     "name": "stderr",
     "output_type": "stream",
     "text": [
      "Successfully registered model 'test01.default.credit_default_model_ab'.\nCreated version '1' of model 'test01.default.credit_default_model_ab'.\n"
     ]
    }
   ],
   "source": [
    "# Regsiter Model A\n",
    "model_version = mlflow.register_model(\n",
    "    model_uri=f\"runs:/{run_id}/lightgbm-pipeline-model\", name=model_name, tags={\"model_class\": \"A\", \"branch\": \"serving\"}\n",
    ")"
   ]
  },
  {
   "cell_type": "code",
   "execution_count": 0,
   "metadata": {
    "application/vnd.databricks.v1+cell": {
     "cellMetadata": {
      "byteLimit": 2048000,
      "rowLimit": 10000
     },
     "inputWidgets": {},
     "nuid": "c7ebd839-db15-4b9a-96b4-24bd7bfdf5bb",
     "showTitle": false,
     "tableResultSettingsMap": {},
     "title": ""
    }
   },
   "outputs": [
    {
     "output_type": "stream",
     "name": "stdout",
     "output_type": "stream",
     "text": [
      "1\n"
     ]
    }
   ],
   "source": [
    "print(model_version.version)"
   ]
  },
  {
   "cell_type": "code",
   "execution_count": 0,
   "metadata": {
    "application/vnd.databricks.v1+cell": {
     "cellMetadata": {
      "byteLimit": 2048000,
      "rowLimit": 10000
     },
     "inputWidgets": {},
     "nuid": "0b21e256-0dc6-4a30-be76-a9ff0f1a5ca6",
     "showTitle": false,
     "tableResultSettingsMap": {},
     "title": ""
    }
   },
   "outputs": [],
   "source": [
    "## Assign Alias to registered Model A\n",
    "\n",
    "# Assign alias for easy reference in future A/B tests\n",
    "model_version_alias = \"model_A\"\n",
    "\n",
    "client.set_registered_model_alias(name=model_name, alias=model_version_alias, version=f\"{model_version.version}\")\n",
    "\n",
    "model_uri = f\"models:/{model_name}@{model_version_alias}\"\n",
    "\n",
    "model_A = mlflow.sklearn.load_model(model_uri)\n",
    "\n",
    "# model_A = mlflow.pyfunc.load_model(model_uri)"
   ]
  },
  {
   "cell_type": "code",
   "execution_count": 0,
   "metadata": {
    "application/vnd.databricks.v1+cell": {
     "cellMetadata": {
      "byteLimit": 2048000,
      "rowLimit": 10000
     },
     "inputWidgets": {},
     "nuid": "677ada48-172a-47e4-98c7-5291ca55bbb3",
     "showTitle": false,
     "tableResultSettingsMap": {},
     "title": ""
    }
   },
   "outputs": [],
   "source": [
    "# Create the pipeline with preprocessing and the LightGBM Classifier B\n",
    "pipeline = Pipeline(steps=[(\"preprocessor\", preprocessor), (\"classifier\", LGBMClassifier(**parameters_b))])"
   ]
  },
  {
   "cell_type": "code",
   "execution_count": 0,
   "metadata": {
    "application/vnd.databricks.v1+cell": {
     "cellMetadata": {
      "byteLimit": 2048000,
      "rowLimit": 10000
     },
     "inputWidgets": {},
     "nuid": "7ef118e1-b0e8-477f-af5b-d0c4795c982c",
     "showTitle": false,
     "tableResultSettingsMap": {},
     "title": ""
    }
   },
   "outputs": [
    {
     "output_type": "stream",
     "name": "stdout",
     "output_type": "stream",
     "text": [
      "[LightGBM] [Info] Number of positive: 5323, number of negative: 18677\n[LightGBM] [Info] Total Bins 3249\n[LightGBM] [Info] Number of data points in the train set: 24000, number of used features: 23\n[LightGBM] [Info] [binary:BoostFromScore]: pavg=0.221792 -> initscore=-1.255256\n[LightGBM] [Info] Start training from score -1.255256\n"
     ]
    },
    {
     "output_type": "stream",
     "name": "stderr",
     "output_type": "stream",
     "text": [
      "2025/03/28 21:26:35 INFO mlflow.tracking._tracking_service.client: 🏃 View run useful-midge-562 at: https://adb-4478913909061743.3.azuredatabricks.net/ml/experiments/327870133523278/runs/98ea03367cb34fee99b91808f0216d13.\n2025/03/28 21:26:35 INFO mlflow.tracking._tracking_service.client: 🧪 View experiment at: https://adb-4478913909061743.3.azuredatabricks.net/ml/experiments/327870133523278.\n"
     ]
    }
   ],
   "source": [
    "# Start MLflow run to track training of Model B\n",
    "with mlflow.start_run(tags={\"model_class\": \"B\", \"branch\": \"serving\"}) as run:\n",
    "    run_id = run.info.run_id\n",
    "\n",
    "    # Train the model\n",
    "    pipeline.fit(X_train, y_train)\n",
    "    y_pred = pipeline.predict(X_test)\n",
    "\n",
    "    # Evaluate the model performance\n",
    "    auc_test = roc_auc_score(y_test, y_pred)\n",
    "\n",
    "    # Log parameters, metrics, and the model to MLflow\n",
    "    mlflow.log_param(\"model_type\", \"LightGBM with preprocessing\")\n",
    "    mlflow.log_params(parameters_b)\n",
    "    mlflow.log_metric(\"AUC\", auc_test)\n",
    "\n",
    "    # Log the input dataset\n",
    "    dataset = mlflow.data.from_spark(train_set_spark, table_name=f\"{catalog_name}.{schema_name}.train_set\", version=\"0\")\n",
    "\n",
    "    mlflow.log_input(dataset, context=\"training\")\n",
    "\n",
    "    # Log the model\n",
    "    signature = infer_signature(model_input=X_train, model_output=y_pred)\n",
    "    mlflow.sklearn.log_model(sk_model=pipeline, artifact_path=\"lightgbm-pipeline-model\", signature=signature)"
   ]
  },
  {
   "cell_type": "code",
   "execution_count": 0,
   "metadata": {
    "application/vnd.databricks.v1+cell": {
     "cellMetadata": {
      "byteLimit": 2048000,
      "rowLimit": 10000
     },
     "inputWidgets": {},
     "nuid": "69dbd1eb-914d-46fb-8b1c-4284549e62d9",
     "showTitle": false,
     "tableResultSettingsMap": {},
     "title": ""
    }
   },
   "outputs": [
    {
     "output_type": "stream",
     "name": "stderr",
     "output_type": "stream",
     "text": [
      "Registered model 'test01.default.credit_default_model_ab' already exists. Creating a new version of this model...\nCreated version '2' of model 'test01.default.credit_default_model_ab'.\n"
     ]
    }
   ],
   "source": [
    "# Regsiter Model B\n",
    "model_version = mlflow.register_model(\n",
    "    model_uri=f\"runs:/{run_id}/lightgbm-pipeline-model\", name=model_name, tags={\"model_class\": \"B\", \"branch\": \"serving\"}\n",
    ")"
   ]
  },
  {
   "cell_type": "code",
   "execution_count": 0,
   "metadata": {
    "application/vnd.databricks.v1+cell": {
     "cellMetadata": {
      "byteLimit": 2048000,
      "rowLimit": 10000
     },
     "inputWidgets": {},
     "nuid": "8952f5d4-20ef-4a39-b66b-3298821388b0",
     "showTitle": false,
     "tableResultSettingsMap": {},
     "title": ""
    }
   },
   "outputs": [],
   "source": [
    "## Assign Alias to registered Model B\n",
    "\n",
    "# Assign alias for easy reference in future A/B tests\n",
    "model_version_alias = \"model_B\"\n",
    "\n",
    "client.set_registered_model_alias(name=model_name, alias=model_version_alias, version=f\"{model_version.version}\")\n",
    "\n",
    "model_uri = f\"models:/{model_name}@{model_version_alias}\"\n",
    "\n",
    "model_B = mlflow.sklearn.load_model(model_uri)"
   ]
  },
  {
   "cell_type": "code",
   "execution_count": 0,
   "metadata": {
    "application/vnd.databricks.v1+cell": {
     "cellMetadata": {
      "byteLimit": 2048000,
      "rowLimit": 10000
     },
     "inputWidgets": {},
     "nuid": "7b607fb7-3456-4d91-8b78-bce7490669dc",
     "showTitle": false,
     "tableResultSettingsMap": {},
     "title": ""
    }
   },
   "outputs": [],
   "source": [
    "class CreditDefaultModelWrapper(mlflow.pyfunc.PythonModel):\n",
    "    def __init__(self, models):\n",
    "        self.models = models\n",
    "        self.model_a = models[0]\n",
    "        self.model_b = models[1]\n",
    "\n",
    "    def predict(self, context, model_input):\n",
    "        if isinstance(model_input, pd.DataFrame):\n",
    "            credit_id = str(model_input[\"Id\"].values[0])  # Id number\n",
    "            hashed_id = hashlib.md5(credit_id.encode(encoding=\"UTF-8\")).hexdigest()\n",
    "\n",
    "            # convert a hexadecimal (base-16) string into an integer\n",
    "            if int(hashed_id, 16) % 2:\n",
    "                predictions = self.model_a.predict(model_input.drop([\"Id\"], axis=1))\n",
    "                return {\"Prediction\": predictions[0], \"model\": \"Model A\"}\n",
    "\n",
    "            else:\n",
    "                predictions = self.model_b.predict(model_input.drop([\"Id\"], axis=1))\n",
    "                return {\"Prediction\": predictions[0], \"model\": \"Model B\"}\n",
    "\n",
    "        else:\n",
    "            raise ValueError(\"Input must be a pandas DataFrame.\")"
   ]
  },
  {
   "cell_type": "code",
   "execution_count": 0,
   "metadata": {
    "application/vnd.databricks.v1+cell": {
     "cellMetadata": {
      "byteLimit": 2048000,
      "rowLimit": 10000
     },
     "inputWidgets": {},
     "nuid": "a38965bc-af54-4081-a6b4-314d0b60109d",
     "showTitle": false,
     "tableResultSettingsMap": {},
     "title": ""
    }
   },
   "outputs": [],
   "source": [
    "# Add columns\n",
    "columns = config.features.clean\n",
    "\n",
    "X_train = train_set[columns]\n",
    "X_test = test_set[columns]"
   ]
  },
  {
   "cell_type": "code",
   "execution_count": 0,
   "metadata": {
    "application/vnd.databricks.v1+cell": {
     "cellMetadata": {
      "byteLimit": 2048000,
      "rowLimit": 10000
     },
     "inputWidgets": {},
     "nuid": "02c7edc2-cc56-4a40-9b74-da30ee6f0f73",
     "showTitle": false,
     "tableResultSettingsMap": {},
     "title": ""
    }
   },
   "outputs": [
    {
     "output_type": "stream",
     "name": "stdout",
     "output_type": "stream",
     "text": [
      "Example Prediction: {'Prediction': 0, 'model': 'Model A'}\n"
     ]
    }
   ],
   "source": [
    "# Run prediction on model A\n",
    "models = [model_A, model_B]\n",
    "wrapped_model = CreditDefaultModelWrapper(models)\n",
    "\n",
    "example_input = X_test.iloc[0:1]  # Select row hashed for mdoel A\n",
    "\n",
    "example_prediction = wrapped_model.predict(context=None, model_input=example_input)\n",
    "\n",
    "print(\"Example Prediction:\", example_prediction)"
   ]
  },
  {
   "cell_type": "code",
   "execution_count": 0,
   "metadata": {
    "application/vnd.databricks.v1+cell": {
     "cellMetadata": {
      "byteLimit": 2048000,
      "rowLimit": 10000
     },
     "inputWidgets": {},
     "nuid": "66f1522e-2b5b-4452-8264-19e6b02997de",
     "showTitle": false,
     "tableResultSettingsMap": {},
     "title": ""
    }
   },
   "outputs": [
    {
     "output_type": "stream",
     "name": "stdout",
     "output_type": "stream",
     "text": [
      "Example Prediction: {'Prediction': 0, 'model': 'Model B'}\n"
     ]
    }
   ],
   "source": [
    "# Run prediction on model B\n",
    "models = [model_A, model_B]\n",
    "wrapped_model = CreditDefaultModelWrapper(models)\n",
    "\n",
    "example_input = X_test.iloc[112:113]  # Select row hashed for mdoel B\n",
    "\n",
    "example_prediction = wrapped_model.predict(context=None, model_input=example_input)\n",
    "\n",
    "print(\"Example Prediction:\", example_prediction)"
   ]
  },
  {
   "cell_type": "code",
   "execution_count": 0,
   "metadata": {
    "application/vnd.databricks.v1+cell": {
     "cellMetadata": {
      "byteLimit": 2048000,
      "rowLimit": 10000
     },
     "inputWidgets": {},
     "nuid": "9b588f19-cead-4706-a372-8fa87303c1c1",
     "showTitle": false,
     "tableResultSettingsMap": {},
     "title": ""
    }
   },
   "outputs": [
    {
     "output_type": "stream",
     "name": "stderr",
     "output_type": "stream",
     "text": [
      "2025/03/28 21:28:02 INFO mlflow.tracking.fluent: Experiment with name '/Shared/credit_default-ab-testing' does not exist. Creating a new experiment.\n2025/03/28 21:28:10 INFO mlflow.tracking._tracking_service.client: 🏃 View run gentle-hawk-773 at: https://adb-4478913909061743.3.azuredatabricks.net/ml/experiments/327870133523292/runs/ccdee4cbc5e44952a998f2b1f8c08e57.\n2025/03/28 21:28:10 INFO mlflow.tracking._tracking_service.client: 🧪 View experiment at: https://adb-4478913909061743.3.azuredatabricks.net/ml/experiments/327870133523292.\nSuccessfully registered model 'test01.default.credit_default_model_pyfunc_ab_test'.\nCreated version '1' of model 'test01.default.credit_default_model_pyfunc_ab_test'.\n"
     ]
    }
   ],
   "source": [
    "# Now we register our wrapped model\n",
    "\n",
    "mlflow.set_experiment(experiment_name=\"/Shared/credit_default-ab-testing\")\n",
    "model_name = f\"{catalog_name}.{schema_name}.credit_default_model_pyfunc_ab_test\"\n",
    "\n",
    "with mlflow.start_run() as run:\n",
    "    run_id = run.info.run_id\n",
    "    signature = infer_signature(model_input=X_train, model_output={\"Prediction\": 0, \"model\": \"Model B\"})\n",
    "\n",
    "    dataset = mlflow.data.from_spark(train_set_spark, table_name=f\"{catalog_name}.{schema_name}.train_set\", version=\"0\")\n",
    "\n",
    "    mlflow.log_input(dataset, context=\"training\")\n",
    "\n",
    "    mlflow.pyfunc.log_model(\n",
    "        python_model=wrapped_model, artifact_path=\"pyfunc-credit_default-model-ab\", signature=signature\n",
    "    )\n",
    "model_version = mlflow.register_model(\n",
    "    model_uri=f\"runs:/{run_id}/pyfunc-credit_default-model-ab\", name=model_name, tags={\"branch\": \"serving\"}\n",
    ")"
   ]
  },
  {
   "cell_type": "code",
   "execution_count": 0,
   "metadata": {
    "application/vnd.databricks.v1+cell": {
     "cellMetadata": {
      "byteLimit": 2048000,
      "rowLimit": 10000
     },
     "inputWidgets": {},
     "nuid": "708c50de-0e1b-4a79-83e7-d3f4f04dc12c",
     "showTitle": false,
     "tableResultSettingsMap": {},
     "title": ""
    }
   },
   "outputs": [
    {
     "output_type": "stream",
     "name": "stdout",
     "output_type": "stream",
     "text": [
      "mlflow.pyfunc.loaded_model:\n  artifact_path: pyfunc-credit_default-model-ab\n  flavor: mlflow.pyfunc.model\n  run_id: ccdee4cbc5e44952a998f2b1f8c08e57\n\n"
     ]
    }
   ],
   "source": [
    "model = mlflow.pyfunc.load_model(model_uri=f\"models:/{model_name}/{model_version.version}\")\n",
    "print(model)"
   ]
  },
  {
   "cell_type": "code",
   "execution_count": 0,
   "metadata": {
    "application/vnd.databricks.v1+cell": {
     "cellMetadata": {
      "byteLimit": 2048000,
      "rowLimit": 10000
     },
     "inputWidgets": {},
     "nuid": "8a540928-11bb-43f5-a696-dff0c9c0aa07",
     "showTitle": false,
     "tableResultSettingsMap": {},
     "title": ""
    }
   },
   "outputs": [
    {
     "output_type": "stream",
     "name": "stdout",
     "output_type": "stream",
     "text": [
      "{'Prediction': 0, 'model': 'Model A'}\n{'Prediction': 0, 'model': 'Model B'}\n"
     ]
    }
   ],
   "source": [
    "# Run prediction\n",
    "predictions_a = model.predict(X_test.iloc[0:1])\n",
    "predictions_b = model.predict(X_test.iloc[112:113])\n",
    "\n",
    "print(predictions_a)\n",
    "print(predictions_b)"
   ]
  },
  {
   "cell_type": "code",
   "execution_count": 0,
   "metadata": {
    "application/vnd.databricks.v1+cell": {
     "cellMetadata": {
      "byteLimit": 2048000,
      "rowLimit": 10000
     },
     "inputWidgets": {},
     "nuid": "f167ef3f-5615-4c06-b4fa-c8c95333caa3",
     "showTitle": false,
     "tableResultSettingsMap": {},
     "title": ""
    }
   },
   "outputs": [
    {
     "output_type": "execute_result",
     "data": {
      "text/plain": [
       "<databricks.sdk.service._internal.Wait at 0x7f482d25d850>"
      ]
     },
     "execution_count": 29,
     "metadata": {},
     "output_type": "execute_result"
    }
   ],
   "source": [
    "## Create serving endpoint\n",
    "\n",
    "workspace = WorkspaceClient()\n",
    "\n",
    "workspace.serving_endpoints.create(\n",
    "    name=\"credit_default-model-serving-ab-test\",\n",
    "    config=EndpointCoreConfigInput(\n",
    "        served_entities=[\n",
    "            ServedEntityInput(\n",
    "                entity_name=f\"{catalog_name}.{schema_name}.credit_default_model_pyfunc_ab_test\",\n",
    "                scale_to_zero_enabled=True,\n",
    "                workload_size=\"Small\",\n",
    "                entity_version=model_version.version,\n",
    "            )\n",
    "        ]\n",
    "    ),\n",
    ")"
   ]
  },
  {
   "cell_type": "code",
   "execution_count": 0,
   "metadata": {
    "application/vnd.databricks.v1+cell": {
     "cellMetadata": {
      "byteLimit": 2048000,
      "rowLimit": 10000
     },
     "inputWidgets": {},
     "nuid": "7b2d6fa9-5784-4ffe-9f2a-f82e502ad386",
     "showTitle": false,
     "tableResultSettingsMap": {},
     "title": ""
    }
   },
   "outputs": [
    {
     "output_type": "stream",
     "name": "stdout",
     "output_type": "stream",
     "text": [
      "Endpoint credit_default-model-serving-ab-test is ready!\n"
     ]
    }
   ],
   "source": [
    "import time\n",
    "from databricks.sdk import WorkspaceClient\n",
    "\n",
    "w = WorkspaceClient()\n",
    "\n",
    "def wait_for_endpoint(endpoint_name, max_wait_sec=300, check_interval_sec=10):\n",
    "    start_time = time.time()\n",
    "    while time.time() - start_time < max_wait_sec:\n",
    "        status = w.serving_endpoints.get(name=endpoint_name).state.ready\n",
    "        if status:\n",
    "            print(f\"Endpoint {endpoint_name} is ready!\")\n",
    "            return True\n",
    "        print(f\"Endpoint {endpoint_name} not ready yet. Waiting {check_interval_sec} seconds...\")\n",
    "        time.sleep(check_interval_sec)\n",
    "    print(f\"Endpoint {endpoint_name} did not become ready within {max_wait_sec} seconds\")\n",
    "    return False\n",
    "\n",
    "wait_for_endpoint(\"credit_default-model-serving-ab-test\")\n",
    "# if wait_for_endpoint(\"credit_default-model-serving-ab-test\"):\n",
    "#     pass"
   ]
  },
  {
   "cell_type": "code",
   "execution_count": 0,
   "metadata": {
    "application/vnd.databricks.v1+cell": {
     "cellMetadata": {
      "byteLimit": 2048000,
      "rowLimit": 10000
     },
     "inputWidgets": {},
     "nuid": "96409406-7558-453a-8da3-19f3748bc4c6",
     "showTitle": false,
     "tableResultSettingsMap": {},
     "title": ""
    }
   },
   "outputs": [
    {
     "output_type": "stream",
     "name": "stdout",
     "output_type": "stream",
     "text": [
      "Response status: 200\nReponse text: {\"predictions\": {\"Prediction\": 0, \"model\": \"Model A\"}}\nExecution time: 0.2959156036376953 seconds\n"
     ]
    }
   ],
   "source": [
    "token = dbutils.notebook.entry_point.getDbutils().notebook().getContext().apiToken().get()  # noqa: F821\n",
    "\n",
    "# token = dbutils.secrets.get(scope=\"secret-scope\", key=\"databricks-token\")  # noqa: F821\n",
    "\n",
    "host = spark.conf.get(\"spark.databricks.workspaceUrl\")\n",
    "train_set = spark.table(f\"{catalog_name}.{schema_name}.train_set\").toPandas()\n",
    "\n",
    "sampled_records = train_set[columns].sample(n=1000, replace=True).to_dict(orient=\"records\")\n",
    "dataframe_records = [[record] for record in sampled_records]\n",
    "\n",
    "# Make predictions\n",
    "\n",
    "start_time = time.time()\n",
    "\n",
    "model_serving_endpoint = f\"https://{host}/serving-endpoints/credit_default-model-serving-ab-test/invocations\"\n",
    "# model_serving_endpoint = f\"https://{host}/serving-endpoints/credit-default-model-serving-feature/invocations\"\n",
    "\n",
    "response = requests.post(\n",
    "    f\"{model_serving_endpoint}\",\n",
    "    headers={\"Authorization\": f\"Bearer {token}\"},\n",
    "    json={\"dataframe_records\": dataframe_records[175]},\n",
    ")\n",
    "\n",
    "end_time = time.time()\n",
    "execution_time = end_time - start_time\n",
    "\n",
    "print(\"Response status:\", response.status_code)\n",
    "print(\"Reponse text:\", response.text)\n",
    "print(\"Execution time:\", execution_time, \"seconds\")"
   ]
  },
  {
   "cell_type": "code",
   "execution_count": 0,
   "metadata": {
    "application/vnd.databricks.v1+cell": {
     "cellMetadata": {},
     "inputWidgets": {},
     "nuid": "0958822f-91b1-43a1-a9c8-b398a94ec62b",
     "showTitle": false,
     "tableResultSettingsMap": {},
     "title": ""
    }
   },
   "outputs": [],
   "source": []
  }
 ],
 "metadata": {
  "application/vnd.databricks.v1+notebook": {
   "computePreferences": null,
   "dashboards": [],
   "environmentMetadata": {
    "base_environment": "",
    "environment_version": "2"
   },
   "inputWidgetPreferences": null,
   "language": "python",
   "notebookMetadata": {
    "pythonIndentUnit": 4
   },
   "notebookName": "05. AB_test_model_serving",
   "widgets": {}
  },
  "language_info": {
   "name": "python"
  }
 },
 "nbformat": 4,
 "nbformat_minor": 0
}